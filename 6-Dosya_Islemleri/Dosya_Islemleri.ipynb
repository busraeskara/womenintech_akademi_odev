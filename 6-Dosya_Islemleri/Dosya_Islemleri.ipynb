{
  "nbformat": 4,
  "nbformat_minor": 0,
  "metadata": {
    "colab": {
      "provenance": []
    },
    "kernelspec": {
      "name": "python3",
      "display_name": "Python 3"
    },
    "language_info": {
      "name": "python"
    }
  },
  "cells": [
    {
      "cell_type": "markdown",
      "source": [
        "Düzensiz ve duplicate veriden oluşan \"all_data.txt\" dosyası üzerinde yapılacak olan işlemler;\n",
        "\n",
        "* Bütün text küçük harfe çevrilecek\n",
        "* Türkçe karakterler replace edilecek\n",
        "+ ş -> s\n",
        "+ ı -> i\n",
        "+ ö -> o\n",
        "+ ğ -> g\n",
        "+ ç -> c\n",
        "+ ü -> u\n",
        "+ Noktalama işaretleri kaldırılacak\n",
        "+ Bir satır tamamen sayılardan oluşuyorsa satırı yeni dosyaya ekleme\n",
        "+ Her satırda bir cümle olacak şekilde satırları düzenleyin\n",
        "duplicate veri barındırmayacak"
      ],
      "metadata": {
        "id": "nsSR-P5cRwmt"
      }
    },
    {
      "cell_type": "code",
      "source": [
        "file = open(\"all_data.txt\", \"r\")\n",
        "lines = file.readlines()\n"
      ],
      "metadata": {
        "id": "iZMvH_TSQ3D4"
      },
      "execution_count": null,
      "outputs": []
    },
    {
      "cell_type": "code",
      "source": [
        "with open(\"all_data.txt\", 'r+') as data, open(\"new_data.txt\", \"w\") as new_data:\n",
        "      lines_data = data.readlines()\n",
        "      for line in lines_data:  \n",
        "         line = line.lower()\n",
        "         line = line.replace('ç', 'c')\n",
        "         line = line.replace('ğ', 'g')\n",
        "         line = line.replace('ı', 'i')\n",
        "         line = line.replace('ö', 'o')\n",
        "         line = line.replace('ş', 's')\n",
        "         line = line.replace('ü', 'u')\n",
        "         new_data.write(line)"
      ],
      "metadata": {
        "id": "-wsJ3HaJQ2uV"
      },
      "execution_count": null,
      "outputs": []
    },
    {
      "cell_type": "code",
      "source": [
        "with open(\"new_data.txt\", 'r+') as data, open(\"new_data.txt\", \"w\") as new_data2:\n",
        "      lines_data = data.readlines()\n",
        "      for line in lines_data:  \n",
        "         line = line.replace('.', '\\n')\n",
        "         line = line.replace('?', '\\n')\n",
        "         line = line.replace('!', '\\n')\n",
        "         line = line.replace('...', '\\n')\n",
        "         new_data2.write(line)"
      ],
      "metadata": {
        "id": "kW1ZqWFjRIJs"
      },
      "execution_count": null,
      "outputs": []
    },
    {
      "cell_type": "code",
      "source": [
        "import re\n",
        "with open(\"new_data.txt\", 'r+') as data, open(\"new_data.txt\", \"r+\") as new_data3:\n",
        "    lines_data = data.readlines()\n",
        "    for line in lines_data:\n",
        "        line = re.sub(r'[^\\w\\s]', '', line)\n",
        "        new_data3.write(line)"
      ],
      "metadata": {
        "id": "qED2wN43RR6N"
      },
      "execution_count": null,
      "outputs": []
    }
  ]
}