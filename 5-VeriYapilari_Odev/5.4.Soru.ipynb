{
 "cells": [
  {
   "cell_type": "markdown",
   "metadata": {},
   "source": [
    "**4. Soru:** Fonksiyon bir integer array nums ve bir hedef target değişkeni almalı ve bizlere toplamı target olan indexleri dönmeli.\n",
    "\n",
    "* Kurallar: Aynı index’teki değeri iki defa kullanamayız."
   ]
  },
  {
   "cell_type": "markdown",
   "metadata": {},
   "source": [
    "*1. Örnek*\n",
    "* Parametreler: nums = [2,7,11,15], target = 9\n",
    "* Dönen Değer: [0,1]\n",
    "* Açıklama: nums[0] ve nums[1]'deki değerlerin toplamı 9 yaptığı için çıktımız [0, 1] oldu."
   ]
  },
  {
   "cell_type": "markdown",
   "metadata": {},
   "source": [
    "*2. Örnek*\n",
    "* Parametreler: nums = [3,2,4], target = 6\n",
    "* Dönen Değer: [1,2]\n",
    "* Açıklama: nums[1] ve nums[2]'deki değerlerin toplamı 6 yaptığı için çıktımız [1, 2] oldu.\n",
    "* Not: Burada [0,0] çıktı olarak kabul edilemez. Çünkü aynı index'i kullanamayacağımız söylenmişti.\n"
   ]
  },
  {
   "cell_type": "markdown",
   "metadata": {},
   "source": [
    "*3. Örnek*\n",
    "* Parametreler: nums = [3,2,4,1,3], target = 7\n",
    "* Dönen Değer: [2,4]\n",
    "* Açıklama: nums[2] ve nums[4]'deki değerlerin toplamı 7 yaptığı için çıktımız [2, 4] oldu."
   ]
  },
  {
   "cell_type": "code",
   "execution_count": 10,
   "metadata": {},
   "outputs": [
    {
     "data": {
      "text/plain": [
       "[0, 1]"
      ]
     },
     "execution_count": 10,
     "metadata": {},
     "output_type": "execute_result"
    }
   ],
   "source": [
    "# 1. ÇÖZÜM:\n",
    "\n",
    "def getIndexesOfTarget(nums, target):\n",
    "    for outerIndex in range(len(nums)): #Listedeki her bir sayıyı tek tek geziyoruz.\n",
    "        for innerIndex in range(len(nums)):#Listedeki her bir sayı için, listedeki her bir sayıyı tek tek geziyoruz.\n",
    "            if outerIndex == innerIndex: #Aynı index'te olan değerleri kullanamayacağımız için aynı indexleri atlıyoruz.\n",
    "                continue\n",
    "            elif nums[outerIndex] + nums[innerIndex] == target:#Eğer şu an üzerinde olduğumuz indexlerdeki sayıların toplamı target'a eşitse bu indexleri return ediyoruz.\n",
    "                return [outerIndex, innerIndex]\n",
    "\n",
    "nums = [2, 7, 11, 15]\n",
    "target = 9\n",
    "\n",
    "getIndexesOfTarget(nums, target)"
   ]
  },
  {
   "cell_type": "code",
   "execution_count": 9,
   "metadata": {},
   "outputs": [
    {
     "data": {
      "text/plain": [
       "[0, 2]"
      ]
     },
     "execution_count": 9,
     "metadata": {},
     "output_type": "execute_result"
    }
   ],
   "source": [
    "def getIndexesOfTarget(nums, target):\n",
    "    visitedNumbers = {} #Önceden gezdiğimiz sayıların index'ini tutmak için bir değişken oluşturduk.\n",
    "\n",
    "    for index in range(len(nums)):\n",
    "        remain = target - nums[index]\n",
    "\n",
    "        #Kalan değeri önceden gördük mü diye kontrol ediyoruz. Eğer gördüysek index'ini alıp return ediyoruz.\n",
    "        if remain in visitedNumbers: \n",
    "            return [visitedNumbers[remain], index]\n",
    "\n",
    "        #Şu an olduğumuz sayının hangi index'te bulunduğunu değişkenimize ekliyoruz.\n",
    "        visitedNumbers[nums[index]] = index\n",
    "\n",
    "nums = [3, 2, 4, 1, 3]\n",
    "target = 7\n",
    "\n",
    "getIndexesOfTarget(nums, target)"
   ]
  }
 ],
 "metadata": {
  "kernelspec": {
   "display_name": "Python 3.10.7 64-bit",
   "language": "python",
   "name": "python3"
  },
  "language_info": {
   "codemirror_mode": {
    "name": "ipython",
    "version": 3
   },
   "file_extension": ".py",
   "mimetype": "text/x-python",
   "name": "python",
   "nbconvert_exporter": "python",
   "pygments_lexer": "ipython3",
   "version": "3.10.7"
  },
  "orig_nbformat": 4,
  "vscode": {
   "interpreter": {
    "hash": "a9cff5a362bc38ef45d817ae74b1af54d6a076e3d773891282bce078b815ba34"
   }
  }
 },
 "nbformat": 4,
 "nbformat_minor": 2
}
