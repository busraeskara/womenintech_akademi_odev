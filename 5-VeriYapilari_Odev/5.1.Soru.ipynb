{
 "cells": [
  {
   "cell_type": "markdown",
   "metadata": {},
   "source": [
    "**1. Soru:** \n",
    "0 - 20 arasında karışık sırada sayıları tutan bir listenizin olduğunu düşünün. Bu liste içerisinde n tane sayı eksik. n ve eksik sayıları bulunuz.\n",
    "\n",
    "* Örnek: my_list = [0, 7, 5, 8, 2] -> 0-10 arasında\n",
    "* 6 adet sayı eksiktir. Eksik olan sayılar [1, 3, 4, 6, 9, 10]\n",
    "\n"
   ]
  },
  {
   "cell_type": "code",
   "execution_count": 1,
   "metadata": {},
   "outputs": [
    {
     "name": "stdout",
     "output_type": "stream",
     "text": [
      "[5, 1, 2, 16, 17, 8, 7, 3, 4, 20, 12, 15, 18, 19, 9, 0, 11, 13, 14, 6, 10]\n",
      "[3, 18, 1, 11, 10, 4]\n",
      "[5, 2, 16, 17, 8, 7, 20, 12, 15, 19, 9, 0, 13, 14, 6]\n"
     ]
    }
   ],
   "source": [
    "#listeyi hazırlama\n",
    "import random\n",
    "\n",
    "my_list = [i for i in range(0, 21)]\n",
    "random.shuffle(my_list)\n",
    "\n",
    "#1. yol\n",
    "remove_list = random.sample(my_list, 6)\n",
    "\n",
    "print(my_list)\n",
    "print(remove_list)\n",
    "\n",
    "for i in remove_list:\n",
    "    my_list.remove(i)\n",
    "\n",
    "#2.yol\n",
    "#del my_list[0:6]\n",
    "\n",
    "print(my_list)"
   ]
  },
  {
   "cell_type": "code",
   "execution_count": 2,
   "metadata": {},
   "outputs": [
    {
     "name": "stdout",
     "output_type": "stream",
     "text": [
      "Listemiz içerisinde 6 tane sayı eksiktir. Eksik olan sayılar [0, 7, 9, 14, 18, 20]\n"
     ]
    }
   ],
   "source": [
    "#1.çözüm\n",
    "my_list = [15, 13, 11, 16, 5, 3, 19, 2, 6, 12, 1, 8, 4, 10, 17]\n",
    "\n",
    "missing_list = []\n",
    "for i in range(0, 21):\n",
    "    if i not in my_list:\n",
    "        missing_list.append(i)\n",
    "\n",
    "print(f\"Listemiz içerisinde {len(missing_list)} tane sayı eksiktir. Eksik olan sayılar {missing_list}\")"
   ]
  },
  {
   "cell_type": "code",
   "execution_count": 3,
   "metadata": {},
   "outputs": [
    {
     "name": "stdout",
     "output_type": "stream",
     "text": [
      "Listemiz içerisinde 6 tane sayı eksiktir. Eksik olan sayılar {0, 7, 9, 14, 18, 20}\n"
     ]
    }
   ],
   "source": [
    "#2.çözüm\n",
    "my_list = [15, 13, 11, 16, 5, 3, 19, 2, 6, 12, 1, 8, 4, 10, 17]\n",
    "\n",
    "my_set = {i for i in range(0,21)}\n",
    "\n",
    "difference_set = my_set - set(my_list)\n",
    "print(f\"Listemiz içerisinde {len(difference_set)} tane sayı eksiktir. Eksik olan sayılar {difference_set}\")"
   ]
  }
 ],
 "metadata": {
  "kernelspec": {
   "display_name": "Python 3.10.7 64-bit",
   "language": "python",
   "name": "python3"
  },
  "language_info": {
   "codemirror_mode": {
    "name": "ipython",
    "version": 3
   },
   "file_extension": ".py",
   "mimetype": "text/x-python",
   "name": "python",
   "nbconvert_exporter": "python",
   "pygments_lexer": "ipython3",
   "version": "3.10.7"
  },
  "orig_nbformat": 4,
  "vscode": {
   "interpreter": {
    "hash": "a9cff5a362bc38ef45d817ae74b1af54d6a076e3d773891282bce078b815ba34"
   }
  }
 },
 "nbformat": 4,
 "nbformat_minor": 2
}
