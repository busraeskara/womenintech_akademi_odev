{
 "cells": [
  {
   "cell_type": "markdown",
   "metadata": {},
   "source": [
    "**2. Soru:** 0'dan 100'e kadar karışık sırada sayıları tutan bir listenizin olduğunu düşünün. Bu liste içerisinde bu defa n tane sayı yerine 1 adet sayı eksik. Eksik olan sayıyı bulunuz.\n"
   ]
  },
  {
   "cell_type": "code",
   "execution_count": 14,
   "metadata": {},
   "outputs": [
    {
     "name": "stdout",
     "output_type": "stream",
     "text": [
      "Liste:  [82, 58, 54, 47, 49, 50, 48, 10, 80, 5, 97, 2, 55, 88, 23, 27, 7, 89, 42, 95, 94, 1, 62, 99, 83, 43, 69, 75, 24, 84, 93, 63, 22, 65, 18, 61, 35, 71, 100, 46, 81, 85, 87, 53, 25, 31, 6, 12, 33, 30, 13, 36, 52, 3, 77, 19, 37, 32, 28, 64, 91, 20, 70, 74, 92, 60, 66, 15, 96, 0, 67, 11, 8, 9, 38, 86, 45, 59, 68, 51, 73, 34, 14, 41, 78, 21, 40, 79, 72, 39, 76, 98, 56, 44, 57, 29, 26, 16, 90, 17, 4]\n",
      "\n",
      "Liste içerisinde eksik olan sayı: [9]\n"
     ]
    }
   ],
   "source": [
    "import random\n",
    "\n",
    "my_list = [i for i in range(0, 101)]\n",
    "random.shuffle(my_list)\n",
    "\n",
    "remove_list = random.sample(my_list, 1)\n",
    "\n",
    "print(\"Liste: \", my_list)\n",
    "\n",
    "for i in remove_list:\n",
    "    my_list.remove(i)\n",
    "\n",
    "print(\"\\n\"f\"Liste içerisinde eksik olan sayı: {remove_list}\")"
   ]
  }
 ],
 "metadata": {
  "kernelspec": {
   "display_name": "Python 3.10.7 64-bit",
   "language": "python",
   "name": "python3"
  },
  "language_info": {
   "codemirror_mode": {
    "name": "ipython",
    "version": 3
   },
   "file_extension": ".py",
   "mimetype": "text/x-python",
   "name": "python",
   "nbconvert_exporter": "python",
   "pygments_lexer": "ipython3",
   "version": "3.10.7"
  },
  "orig_nbformat": 4,
  "vscode": {
   "interpreter": {
    "hash": "a9cff5a362bc38ef45d817ae74b1af54d6a076e3d773891282bce078b815ba34"
   }
  }
 },
 "nbformat": 4,
 "nbformat_minor": 2
}
