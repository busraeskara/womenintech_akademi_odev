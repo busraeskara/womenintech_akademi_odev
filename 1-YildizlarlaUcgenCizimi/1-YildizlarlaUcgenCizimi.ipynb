{
 "cells": [
  {
   "cell_type": "code",
   "execution_count": 1,
   "metadata": {},
   "outputs": [
    {
     "name": "stdout",
     "output_type": "stream",
     "text": [
      "*\n",
      "**\n",
      "***\n",
      "****\n",
      "*****\n"
     ]
    }
   ],
   "source": [
    "# 1\n",
    "\n",
    "number = 5\n",
    "for i in range(1, number + 1):\n",
    "  print(\"*\" * i) #*i: içindeki değeri birden fazla yazmak anlamına gelir."
   ]
  },
  {
   "cell_type": "code",
   "execution_count": 2,
   "metadata": {},
   "outputs": [
    {
     "name": "stdout",
     "output_type": "stream",
     "text": [
      "***** \n",
      "**** \n",
      "*** \n",
      "** \n",
      "* \n",
      " \n"
     ]
    }
   ],
   "source": [
    "# 2 \n",
    "\n",
    "total = 5\n",
    "for i in range(0, total + 1):\n",
    "  print(\"*\" * (total - i) + \" \")"
   ]
  },
  {
   "cell_type": "code",
   "execution_count": 3,
   "metadata": {},
   "outputs": [
    {
     "name": "stdout",
     "output_type": "stream",
     "text": [
      "    *\n",
      "   **\n",
      "  ***\n",
      " ****\n",
      "*****\n"
     ]
    }
   ],
   "source": [
    "# 3\n",
    "\n",
    "sayi = 5\n",
    "for i in range(1, sayi + 1):\n",
    "  print(\" \" * (sayi - i) + \"*\" * i)"
   ]
  },
  {
   "cell_type": "code",
   "execution_count": 4,
   "metadata": {},
   "outputs": [
    {
     "name": "stdout",
     "output_type": "stream",
     "text": [
      "*****\n",
      " ****\n",
      "  ***\n",
      "   **\n",
      "    *\n",
      "     \n"
     ]
    }
   ],
   "source": [
    "# 4\n",
    "\n",
    "number = 5\n",
    "for i in range(0, number + 1):\n",
    "  print(\" \" * (i) + \"*\" * (number - i) )"
   ]
  },
  {
   "cell_type": "code",
   "execution_count": 5,
   "metadata": {},
   "outputs": [
    {
     "name": "stdout",
     "output_type": "stream",
     "text": [
      "      \n",
      "     **\n",
      "    ****\n",
      "   ******\n",
      "  ********\n",
      " **********\n"
     ]
    }
   ],
   "source": [
    "# 5\n",
    "\n",
    "number = 6\n",
    "for i in range(number):\n",
    "  print(\" \" * (6 - i)+ \"*\" * i * 2)"
   ]
  },
  {
   "cell_type": "code",
   "execution_count": 6,
   "metadata": {},
   "outputs": [
    {
     "name": "stdout",
     "output_type": "stream",
     "text": [
      " **********\n",
      "  ********\n",
      "   ******\n",
      "    ****\n",
      "     **\n"
     ]
    }
   ],
   "source": [
    "# 6 \n",
    "\n",
    "number = 5\n",
    "for i in range(number, 0, -1):\n",
    "  print(\" \" * (6 - i) + \"*\" * i * 2)"
   ]
  },
  {
   "cell_type": "code",
   "execution_count": 7,
   "metadata": {},
   "outputs": [
    {
     "name": "stdout",
     "output_type": "stream",
     "text": [
      "*        *\n",
      "**      **\n",
      "***    ***\n",
      "****  ****\n",
      "**********\n"
     ]
    }
   ],
   "source": [
    "# 7\n",
    "\n",
    "adet = 5\n",
    "for i in range(1, adet+1):\n",
    "  print(\"*\" * i + \" \"* ((adet - i) * 2) + \"*\" * i)\n"
   ]
  }
 ],
 "metadata": {
  "kernelspec": {
   "display_name": "Python 3.10.7 64-bit",
   "language": "python",
   "name": "python3"
  },
  "language_info": {
   "codemirror_mode": {
    "name": "ipython",
    "version": 3
   },
   "file_extension": ".py",
   "mimetype": "text/x-python",
   "name": "python",
   "nbconvert_exporter": "python",
   "pygments_lexer": "ipython3",
   "version": "3.10.7"
  },
  "orig_nbformat": 4,
  "vscode": {
   "interpreter": {
    "hash": "a9cff5a362bc38ef45d817ae74b1af54d6a076e3d773891282bce078b815ba34"
   }
  }
 },
 "nbformat": 4,
 "nbformat_minor": 2
}
