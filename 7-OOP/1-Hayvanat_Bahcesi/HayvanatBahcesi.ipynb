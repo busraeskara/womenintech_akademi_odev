{
  "nbformat": 4,
  "nbformat_minor": 0,
  "metadata": {
    "colab": {
      "provenance": []
    },
    "kernelspec": {
      "name": "python3",
      "display_name": "Python 3"
    },
    "language_info": {
      "name": "python"
    }
  },
  "cells": [
    {
      "cell_type": "markdown",
      "source": [
        "Ödev - Hayvanat Bahçesi Yönetimi"
      ],
      "metadata": {
        "id": "GWsrknJXIlmJ"
      }
    },
    {
      "cell_type": "markdown",
      "source": [
        "Bir hayvanat bahçesindeki hayvanlar hakkındaki bilgileri takip etmek için bir sistem tasarlıyorsunuz.\n",
        "\n",
        "* Hayvanlar:\n",
        "* Atlar (atlar, zebralar, eşekler vb.),\n",
        "* Kedigiller (kaplanlar, aslanlar vb.),\n",
        "* Kemirgenler (sıçanlar, kunduzlar vb.) gibi gruplardaki türlerle karakterize edilir.\n",
        "* Hayvanlar hakkında depolanan bilgilerin çoğu tüm gruplamalar için aynıdır.\n",
        "tür adı, ağırlığı, yaşı vb.\n",
        "* Sistem ayrıca her hayvan için belirli ilaçların dozajını alabilmeli => getDosage ()\n",
        "* Sistem Yem verme zamanlarını hesaplayabilmelidir => getFeedSchedule ()\n",
        "* Sistemin bu işlevleri yerine getirme mantığı, her gruplama için farklı olacaktır. Örneğin, atlar için yem verme algoritması farklı olup, kaplanlar için farklı olacaktır.\n",
        "\n",
        "Polimorfizm modelini kullanarak, yukarıda açıklanan durumu ele almak için bir sınıf diyagramı tasarlayın."
      ],
      "metadata": {
        "id": "dtpFfFe0Io-l"
      }
    },
    {
      "cell_type": "code",
      "execution_count": 1,
      "metadata": {
        "id": "oMkx1XW5IdMg"
      },
      "outputs": [],
      "source": [
        "class Hayvan:\n",
        "    def __init__(self, tur_adi, agirligi, yas):\n",
        "        self.tur_adi = tur_adi\n",
        "        self.agirliri = agirligi\n",
        "        self.yas = yas\n",
        "\n",
        "    def getFeedSchedule(self):\n",
        "        return [10, 20]\n",
        "\n",
        "    def getDosage(self):\n",
        "        return 2"
      ]
    },
    {
      "cell_type": "code",
      "source": [
        "class Atlar(Hayvan):\n",
        "    def __init__(self, tur_adi, agirligi, yas):\n",
        "        super().__init__(tur_adi, agirligi, yas)\n",
        "\n",
        "    def getFeedSchedule(self):\n",
        "        return[6, 12, 18]\n",
        "    \n",
        "    def getDosage(self):\n",
        "        return 3"
      ],
      "metadata": {
        "id": "9FBmDlvnJa66"
      },
      "execution_count": 2,
      "outputs": []
    },
    {
      "cell_type": "code",
      "source": [
        "class Kemirgenler(Hayvan):\n",
        "    def __init__(self, tur_adi, agirligi, yas):\n",
        "        super().__init__(tur_adi, agirligi, yas)\n",
        "\n",
        "    def getFeedSchedule(self):\n",
        "        return[8, 11]\n",
        "    \n",
        "    def getDosage(self):\n",
        "        return 1"
      ],
      "metadata": {
        "id": "RZNbNxM8Jetq"
      },
      "execution_count": 3,
      "outputs": []
    },
    {
      "cell_type": "code",
      "source": [
        "class Kedigiller(Hayvan):\n",
        "    def __init__(self, tur_adi, agirligi, yas):\n",
        "        super().__init__(tur_adi, agirligi, yas)\n",
        "\n",
        "    def getFeedSchedule(self):\n",
        "        return[6, 13, 20]\n",
        "    \n",
        "    def getDosage(self):\n",
        "        return 2"
      ],
      "metadata": {
        "id": "w0Xg6BCPJgbi"
      },
      "execution_count": 4,
      "outputs": []
    },
    {
      "cell_type": "code",
      "source": [
        "at = Atlar(\"At\", 150, 3)\n",
        "aslan = Kedigiller(\"Aslan\", 90, 1)\n",
        "kemirgen = Kemirgenler(\"Kemirgem\", 2, 1)"
      ],
      "metadata": {
        "id": "acmayBmIJiWf"
      },
      "execution_count": 5,
      "outputs": []
    },
    {
      "cell_type": "code",
      "source": [
        "print(f\"Atlar için:\\nİlaç Dozu: {at.getDosage()}\\nYem Saatleri: {at.getFeedSchedule()}\\n\\n\")\n",
        "print(f\"Kedigiller için:\\nİlaç Dozu: {aslan.getDosage()}\\nYem Saatleri: {aslan.getFeedSchedule()}\\n\\n\")\n",
        "print(f\"Kemirgenler için:\\nİlaç Dozu: {kemirgen.getDosage()}\\nYem Saatleri: {kemirgen.getFeedSchedule()}\\n\\n\")"
      ],
      "metadata": {
        "colab": {
          "base_uri": "https://localhost:8080/"
        },
        "id": "Gps-2c_qJkpf",
        "outputId": "885e2e94-3868-4e19-a4c0-bf6bf37a4df0"
      },
      "execution_count": 7,
      "outputs": [
        {
          "output_type": "stream",
          "name": "stdout",
          "text": [
            "Atlar için:\n",
            "İlaç Dozu: 3\n",
            "Yem Saatleri: [6, 12, 18]\n",
            "\n",
            "\n",
            "Kedigiller için:\n",
            "İlaç Dozu: 2\n",
            "Yem Saatleri: [6, 13, 20]\n",
            "\n",
            "\n",
            "Kemirgenler için:\n",
            "İlaç Dozu: 1\n",
            "Yem Saatleri: [8, 11]\n",
            "\n",
            "\n"
          ]
        }
      ]
    },
    {
      "cell_type": "code",
      "source": [],
      "metadata": {
        "id": "SWnEdyv-Jl_S"
      },
      "execution_count": null,
      "outputs": []
    }
  ]
}